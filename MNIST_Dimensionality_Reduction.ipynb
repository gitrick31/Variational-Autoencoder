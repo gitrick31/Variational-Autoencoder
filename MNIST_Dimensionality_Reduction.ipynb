{
 "cells": [
  {
   "cell_type": "code",
   "execution_count": 1,
   "id": "46aca7a0-e466-4a0b-8d6c-d671e6815e15",
   "metadata": {},
   "outputs": [],
   "source": [
    "# Imports\n",
    "import torch\n",
    "import torch.optim as optim\n",
    "import torch.nn as nn\n",
    "import torch.nn.functional as F\n",
    "from torch.distributions import Normal\n",
    "\n",
    "import torchvision\n",
    "import torchvision.transforms as transforms\n",
    "from torchvision.utils import make_grid\n",
    "from torchvision.utils import save_image\n",
    "\n",
    "import matplotlib.pyplot as plt\n",
    "import numpy as np"
   ]
  },
  {
   "cell_type": "code",
   "execution_count": 2,
   "id": "8bc01211-847c-4915-b002-7b5952a3155d",
   "metadata": {},
   "outputs": [],
   "source": [
    "# Download MNIST Dataset\n",
    "# torchvision.datasets.MNIST('./', download=True)"
   ]
  },
  {
   "attachments": {},
   "cell_type": "markdown",
   "id": "5c3f7ef2-48d5-4fc0-b48e-f11a8741865c",
   "metadata": {},
   "source": [
    "# AutoEncoder\n",
    "- AutoEncoder is a type of unsupervised model\n",
    "- This means that we don't train it on any labeled data\n",
    "- Used for tasks like clustering and dimensionality reduction\n",
    "- This is in contrast to supervised models which require labeled data, for tasks like regression and classification\n",
    "\n",
    "### This project is an AutoEncoder for dimensionality reduction of the MNIST dataset\n",
    "\n",
    "## Key Points\n",
    "- **Latent Space/Embedding/Representation**: This is the lower dimensional representation of the data\n",
    "- **Encoder**: The part of the model that maps the data to the latent space\n",
    "- **Decoder**: The part of the model that tries to map the latent space back to the original data\n",
    "\n",
    "## AutoEncoder Architecture:\n",
    "\n",
    "<img src=\"https://www.compthree.com/images/blog/ae/ae.png\" width=\"400\"/>"
   ]
  },
  {
   "cell_type": "markdown",
   "id": "e3dfc7a2-3ce7-4196-846b-a35ee811cc4d",
   "metadata": {},
   "source": [
    "# Data"
   ]
  },
  {
   "cell_type": "code",
   "execution_count": 3,
   "id": "5da94c6f-c7f5-411a-b77b-59e2eb029276",
   "metadata": {},
   "outputs": [
    {
     "name": "stderr",
     "output_type": "stream",
     "text": [
      "C:\\Users\\sudar\\AppData\\Local\\Temp\\ipykernel_12956\\2029277582.py:1: FutureWarning: You are using `torch.load` with `weights_only=False` (the current default value), which uses the default pickle module implicitly. It is possible to construct malicious pickle data which will execute arbitrary code during unpickling (See https://github.com/pytorch/pytorch/blob/main/SECURITY.md#untrusted-models for more details). In a future release, the default value for `weights_only` will be flipped to `True`. This limits the functions that could be executed during unpickling. Arbitrary objects will no longer be allowed to be loaded via this mode unless they are explicitly allowlisted by the user via `torch.serialization.add_safe_globals`. We recommend you start setting `weights_only=True` for any use case where you don't have full control of the loaded file. Please open an issue on GitHub for any issues related to this experimental feature.\n",
      "  images, ground_truth = torch.load('MNIST/processed/training.pt')\n"
     ]
    }
   ],
   "source": [
    "images, ground_truth = torch.load('MNIST/processed/training.pt')"
   ]
  },
  {
   "cell_type": "code",
   "execution_count": 4,
   "id": "c2898e86-b09c-40a2-abbc-d78788c21923",
   "metadata": {},
   "outputs": [
    {
     "name": "stdout",
     "output_type": "stream",
     "text": [
      "torch.Size([60000, 28, 28])\n",
      "torch.Size([60000])\n"
     ]
    }
   ],
   "source": [
    "print(images.shape) # 60,000 images of size 28x28\n",
    "print(ground_truth.shape) # Array of length 60,000 for the ground truth"
   ]
  },
  {
   "cell_type": "code",
   "execution_count": 5,
   "id": "0bd89cc3-a2b3-4bd9-b058-0e9cf55b4e22",
   "metadata": {},
   "outputs": [
    {
     "name": "stdout",
     "output_type": "stream",
     "text": [
      "tensor(0, dtype=torch.uint8)\n",
      "tensor(255, dtype=torch.uint8)\n"
     ]
    }
   ],
   "source": [
    "# Pixel values of an image are betweeen 0 to 255\n",
    "print(torch.min(images[0]))\n",
    "print(torch.max(images[0]))"
   ]
  },
  {
   "cell_type": "code",
   "execution_count": 6,
   "id": "f2aab2c7-8216-4579-baec-53c3cbb7fbf4",
   "metadata": {},
   "outputs": [
    {
     "name": "stdout",
     "output_type": "stream",
     "text": [
      "tensor(3)\n"
     ]
    },
    {
     "data": {
      "text/plain": [
       "<matplotlib.image.AxesImage at 0x1ba2b9d9430>"
      ]
     },
     "execution_count": 6,
     "metadata": {},
     "output_type": "execute_result"
    },
    {
     "data": {
      "image/png": "[encoded data removed]",
      "text/plain": [
       "<Figure size 640x480 with 1 Axes>"
      ]
     },
     "metadata": {},
     "output_type": "display_data"
    }
   ],
   "source": [
    "image_index = 12\n",
    "\n",
    "print(ground_truth[image_index]) # Ground truth label\n",
    "plt.imshow(images[image_index], cmap='gray') # Display the image"
   ]
  },
  {
   "cell_type": "markdown",
   "id": "8b7e02c7-1cda-4d7b-aa81-0c01cffe4446",
   "metadata": {},
   "source": [
    "## Loading In The Data\n",
    "PyTorch has two types of Datasets:\n",
    "- **MAP-style**: For data that is easy to access with an index\n",
    "- **Iterable-style**: For data to be streamed (video, text, etc.)"
   ]
  },
  {
   "cell_type": "code",
   "execution_count": 7,
   "id": "9c342740-c6ac-4ae9-ac0b-6a95261c16f9",
   "metadata": {},
   "outputs": [],
   "source": [
    "from torch.utils.data import Dataset\n",
    "\n",
    "class MNISTDataset(Dataset):\n",
    "    '''\n",
    "    Creates a MAP-style PyTorch dataset\n",
    "    Can query the dataset via index\n",
    "    Need to implement __getitem__ and __len_ methods\n",
    "    '''\n",
    "    def __init__(self, path):\n",
    "        # Load the data into memory\n",
    "        # Don't do this if we have a lot of data\n",
    "        self.images, self.ground_truth = torch.load(path)\n",
    "\n",
    "    # When the data is in a .h5 file, we can read data everytime getitem is called since it's inexpensive in this case\n",
    "    def __getitem__(self, index):\n",
    "        # Returns image with index\n",
    "        x = self.images[index].float()\n",
    "        x = torch.Tensor(x)\n",
    "        x = torch.flatten(x) # Flatten the image from 28x28 to 784\n",
    "        \n",
    "        return x\n",
    "\n",
    "    def __len__(self):\n",
    "        # Returns length of the dataset\n",
    "        return len(self.ground_truth)"
   ]
  },
  {
   "cell_type": "code",
   "execution_count": 8,
   "id": "950d17d5-f97a-49d9-8872-9147fc2eef38",
   "metadata": {},
   "outputs": [
    {
     "name": "stdout",
     "output_type": "stream",
     "text": [
      "Train dataset length:  60000\n",
      "Test dataset length:  10000\n"
     ]
    },
    {
     "name": "stderr",
     "output_type": "stream",
     "text": [
      "C:\\Users\\sudar\\AppData\\Local\\Temp\\ipykernel_12956\\1831518809.py:12: FutureWarning: You are using `torch.load` with `weights_only=False` (the current default value), which uses the default pickle module implicitly. It is possible to construct malicious pickle data which will execute arbitrary code during unpickling (See https://github.com/pytorch/pytorch/blob/main/SECURITY.md#untrusted-models for more details). In a future release, the default value for `weights_only` will be flipped to `True`. This limits the functions that could be executed during unpickling. Arbitrary objects will no longer be allowed to be loaded via this mode unless they are explicitly allowlisted by the user via `torch.serialization.add_safe_globals`. We recommend you start setting `weights_only=True` for any use case where you don't have full control of the loaded file. Please open an issue on GitHub for any issues related to this experimental feature.\n",
      "  self.images, self.ground_truth = torch.load(path)\n"
     ]
    }
   ],
   "source": [
    "train_dataset = MNISTDataset('MNIST/processed/training.pt')\n",
    "test_dataset = MNISTDataset('MNIST/processed/test.pt')\n",
    "\n",
    "print('Train dataset length: ', len(train_dataset))\n",
    "print('Test dataset length: ', len(test_dataset))"
   ]
  },
  {
   "cell_type": "code",
   "execution_count": 9,
   "id": "80fc57e0-b146-4039-b16e-e115f5460608",
   "metadata": {},
   "outputs": [
    {
     "data": {
      "text/plain": [
       "torch.Size([784])"
      ]
     },
     "execution_count": 9,
     "metadata": {},
     "output_type": "execute_result"
    }
   ],
   "source": [
    "train_dataset[15].shape"
   ]
  },
  {
   "cell_type": "code",
   "execution_count": 10,
   "id": "8decb959-76a5-46ec-b44d-58bd9ca737cd",
   "metadata": {},
   "outputs": [
    {
     "data": {
      "text/plain": [
       "<matplotlib.image.AxesImage at 0x1ba2bb15d60>"
      ]
     },
     "execution_count": 10,
     "metadata": {},
     "output_type": "execute_result"
    },
    {
     "data": {
      "image/png": "[encoded data removed]",
      "text/plain": [
       "<Figure size 640x480 with 1 Axes>"
      ]
     },
     "metadata": {},
     "output_type": "display_data"
    }
   ],
   "source": [
    "plt.imshow(train_dataset[12].numpy().reshape((28, 28)), cmap='gray')"
   ]
  },
  {
   "cell_type": "markdown",
   "id": "7683172b-f021-4104-a52c-c1e56cc54a02",
   "metadata": {},
   "source": [
    "# Building the AutoEncoder\n",
    "- The network will have 4 fully connected layers, 2 for the encoder and 2 for the decoder\n",
    "- The bottleneck layer in the middle of the model will force it to learn an efficient representation\n",
    "- We train the model by minimizing the mean squared error between the reconstructed data and original data\n",
    "$MSE =  \\frac{1}{N} \\sum_{i=1}^{n}(X_i - \\hat{X}_i)^2$\n",
    "---\n",
    "- The input dimension will be of size 784, which is all of the pixels in the image\n",
    "- The latent dimension is of size 128\n",
    "- Since the size of the latent space is much smaller, it will force the model to learn an efficient representation\n",
    "- This is because all the information the decoder has to reconstruct the image is from the latent space, so it has to figure out a way to learn a better representation of the data\n",
    "---\n",
    "- There are other versions of AutoEncoders where the latent dimension is bigger than the input dimension and this is used as a denoising AutoEncoder\n",
    "---\n",
    "> How do we train the model\n",
    "\n",
    "- We want to minimize the distance between the image that we're reconstructing and the original input image\n",
    "- An easy loss function to use is MSE"
   ]
  },
  {
   "cell_type": "code",
   "execution_count": 11,
   "id": "c0c47c68-d0d4-4ffb-86a4-2c874e3b35c0",
   "metadata": {},
   "outputs": [],
   "source": [
    "import torch.nn as nn # Submodule for neural network building blocks\n",
    "\n",
    "# This uses linear layers\n",
    "# For VAE, we will use a convolutional network\n",
    "class AutoEncoder(nn.Module):\n",
    "    '''\n",
    "    AutoEncoder with fully connected layers\n",
    "\n",
    "    Parameters\n",
    "    input_shape - Shape of the input data\n",
    "    latent_dim - Size of the latent dimension\n",
    "    '''\n",
    "\n",
    "    def __init__(self, input_shape, latent_dim=128):\n",
    "        super().__init__() # \n",
    "\n",
    "        # Two fully connected layers for encoder (input_shape -> latent_dim)\n",
    "        self.encoder_l1 = nn.Linear(in_features=input_shape, out_features=latent_dim)\n",
    "        self.encoder_l2 = nn.Linear(in_features=latent_dim, out_features=latent_dim)\n",
    "\n",
    "        # Two fully connected layers for decoder (128 -> input_shape)\n",
    "        self.decoder_l1 = nn.Linear(in_features=latent_dim, out_features=latent_dim)\n",
    "        self.decoder_l2 = nn.Linear(in_features=latent_dim, out_features=input_shape)\n",
    "\n",
    "    def forward(self, x):\n",
    "        '''\n",
    "        Define how the network is going to be run\n",
    "\n",
    "        Parameters\n",
    "        x - Input data\n",
    "\n",
    "        Returns\n",
    "        x_hat - Reconstructed data\n",
    "        '''\n",
    "\n",
    "        latent = self.run_encoder(x)\n",
    "        x_hat = self.run_decoder(latent)\n",
    "        return x_hat\n",
    "\n",
    "    def run_encoder(self, x):\n",
    "        # Runs encoder\n",
    "        output = F.relu(self.encoder_l1(x))\n",
    "        latent = F.relu(self.encoder_l2(output)) # Latent representation\n",
    "        return latent\n",
    "\n",
    "    def run_decoder(self, latent):\n",
    "        # Runs decoder\n",
    "        output = F.relu(self.decoder_l1(latent))\n",
    "        x_hat = F.relu(self.decoder_l2(output)) # Reconstructed image\n",
    "        return x_hat"
   ]
  },
  {
   "cell_type": "code",
   "execution_count": 12,
   "id": "b2943ce6-4f47-4cf3-8431-d03ab38824e0",
   "metadata": {},
   "outputs": [
    {
     "name": "stdout",
     "output_type": "stream",
     "text": [
      "784\n"
     ]
    },
    {
     "name": "stderr",
     "output_type": "stream",
     "text": [
      "C:\\Users\\sudar\\AppData\\Local\\Temp\\ipykernel_12956\\1831518809.py:12: FutureWarning: You are using `torch.load` with `weights_only=False` (the current default value), which uses the default pickle module implicitly. It is possible to construct malicious pickle data which will execute arbitrary code during unpickling (See https://github.com/pytorch/pytorch/blob/main/SECURITY.md#untrusted-models for more details). In a future release, the default value for `weights_only` will be flipped to `True`. This limits the functions that could be executed during unpickling. Arbitrary objects will no longer be allowed to be loaded via this mode unless they are explicitly allowlisted by the user via `torch.serialization.add_safe_globals`. We recommend you start setting `weights_only=True` for any use case where you don't have full control of the loaded file. Please open an issue on GitHub for any issues related to this experimental feature.\n",
      "  self.images, self.ground_truth = torch.load(path)\n"
     ]
    },
    {
     "data": {
      "text/plain": [
       "AutoEncoder(\n",
       "  (encoder_l1): Linear(in_features=784, out_features=128, bias=True)\n",
       "  (encoder_l2): Linear(in_features=128, out_features=128, bias=True)\n",
       "  (decoder_l1): Linear(in_features=128, out_features=128, bias=True)\n",
       "  (decoder_l2): Linear(in_features=128, out_features=784, bias=True)\n",
       ")"
      ]
     },
     "execution_count": 12,
     "metadata": {},
     "output_type": "execute_result"
    }
   ],
   "source": [
    "train_dataset = MNISTDataset('MNIST/processed/training.pt')\n",
    "test_dataset = MNISTDataset('MNIST/processed/test.pt')\n",
    "\n",
    "# Shape of the input data\n",
    "image_shape = train_dataset[0].shape[0]\n",
    "print(image_shape)\n",
    "\n",
    "# Initialize AutoEncoder\n",
    "model = AutoEncoder(input_shape=image_shape)\n",
    "\n",
    "# Save the model onto the GPU\n",
    "model.cuda() # By default the model is going to be on the CPU"
   ]
  },
  {
   "cell_type": "markdown",
   "id": "cf6c1ece-7046-43c0-941f-7d1ab547e5a1",
   "metadata": {},
   "source": [
    "## eval() and train() mode\n",
    "- In PyTorch, the model can be in two modes, eval() and train()\n",
    "- Some layers like BatchNorm and Dropout perform differntly in each mode\n",
    "- The model is in train() mode by default"
   ]
  },
  {
   "cell_type": "code",
   "execution_count": 13,
   "id": "821cc5ee-a151-4ed2-857e-cfe39ee83a22",
   "metadata": {},
   "outputs": [
    {
     "data": {
      "text/plain": [
       "AutoEncoder(\n",
       "  (encoder_l1): Linear(in_features=784, out_features=128, bias=True)\n",
       "  (encoder_l2): Linear(in_features=128, out_features=128, bias=True)\n",
       "  (decoder_l1): Linear(in_features=128, out_features=128, bias=True)\n",
       "  (decoder_l2): Linear(in_features=128, out_features=784, bias=True)\n",
       ")"
      ]
     },
     "execution_count": 13,
     "metadata": {},
     "output_type": "execute_result"
    }
   ],
   "source": [
    "model.train()"
   ]
  },
  {
   "cell_type": "markdown",
   "id": "28628464-e816-431b-8903-7083af346da9",
   "metadata": {},
   "source": [
    "## Defining the loss, optimizer and training loop"
   ]
  },
  {
   "cell_type": "code",
   "execution_count": 14,
   "id": "60862c64-a432-4f63-8191-3ee1731d42a1",
   "metadata": {},
   "outputs": [
    {
     "name": "stdout",
     "output_type": "stream",
     "text": [
      "epoch: 1/100, loss 1999.889519\n",
      "epoch: 6/100, loss 829.232850\n",
      "epoch: 11/100, loss 754.969207\n",
      "epoch: 16/100, loss 719.279357\n",
      "epoch: 21/100, loss 697.177392\n",
      "epoch: 26/100, loss 684.775553\n",
      "epoch: 31/100, loss 675.001399\n",
      "epoch: 36/100, loss 668.111029\n",
      "epoch: 41/100, loss 662.859575\n",
      "epoch: 46/100, loss 658.404973\n",
      "epoch: 51/100, loss 654.367721\n",
      "epoch: 56/100, loss 651.014255\n",
      "epoch: 61/100, loss 648.571642\n",
      "epoch: 66/100, loss 646.525505\n",
      "epoch: 71/100, loss 644.683556\n",
      "epoch: 76/100, loss 641.886895\n",
      "epoch: 81/100, loss 640.491811\n",
      "epoch: 86/100, loss 639.006832\n",
      "epoch: 91/100, loss 638.004036\n",
      "epoch: 96/100, loss 637.952569\n",
      "epoch: 100/100, loss 637.637544\n"
     ]
    }
   ],
   "source": [
    "import torch.optim as optim\n",
    "\n",
    "# Training data loader, iterates over our dataset\n",
    "train_loader = torch.utils.data.DataLoader(train_dataset, batch_size=128, shuffle=True)\n",
    "\n",
    "# MSE loss\n",
    "mse = nn.MSELoss()\n",
    "\n",
    "# Create an optimizer object\n",
    "# Adam optimizer with learning rate 1e-3\n",
    "optimizer = optim.Adam(model.parameters(), lr=1e-3)\n",
    "\n",
    "n_epochs = 100\n",
    "\n",
    "for epoch in range(n_epochs):\n",
    "    loss = 0\n",
    "\n",
    "    # batch_features is each training batch of shape (batch_size x n_features), here, (128, 784)\n",
    "\n",
    "    for batch_features in train_loader:\n",
    "        # Put data onto GPU\n",
    "        batch_features = batch_features.cuda()\n",
    "\n",
    "        # Reset the gradient back to 0\n",
    "        # PyTorch accumulates gradients on subsequent backward passes\n",
    "        optimizer.zero_grad()\n",
    "\n",
    "        # Forward pass, compute reconstructions\n",
    "        outputs = model(batch_features)\n",
    "\n",
    "        # Compute training reconstruction loss\n",
    "        train_loss = mse(outputs, batch_features)\n",
    "\n",
    "        # Compute accumulated gradients\n",
    "        train_loss.backward()\n",
    "\n",
    "        # Perform parameter update based on current gradients\n",
    "        optimizer.step()\n",
    "\n",
    "        # Add the mini-batch training loss to epoch loss\n",
    "        loss += train_loss.item()\n",
    "\n",
    "    # Compute the epoch training loss\n",
    "    loss = loss / len(train_loader)\n",
    "\n",
    "    if epoch % 5 == 0:\n",
    "        print(f'epoch: {epoch + 1}/{n_epochs}, loss {loss:.6f}')\n",
    "\n",
    "print(f'epoch: {epoch + 1}/{n_epochs}, loss {loss:.6f}')"
   ]
  },
  {
   "cell_type": "markdown",
   "id": "15b7017b-9bb9-4498-998f-4c80005e8a58",
   "metadata": {},
   "source": [
    "## Evaluating the model\n",
    "We can visually see how well the model does at reconstructing the input image"
   ]
  },
  {
   "cell_type": "code",
   "execution_count": 15,
   "id": "d51c33ba-f9b8-4793-87f4-3f8a1cdeeca4",
   "metadata": {},
   "outputs": [
    {
     "data": {
      "text/plain": [
       "<matplotlib.image.AxesImage at 0x1ba2ccdd730>"
      ]
     },
     "execution_count": 15,
     "metadata": {},
     "output_type": "execute_result"
    },
    {
     "data": {
      "image/png": "[encoded data removed]",
      "text/plain": [
       "<Figure size 640x480 with 1 Axes>"
      ]
     },
     "metadata": {},
     "output_type": "display_data"
    }
   ],
   "source": [
    "# Put the model into eval() mode\n",
    "model.eval()\n",
    "\n",
    "# Visuazlie the output of the train set\n",
    "image_index = 231\n",
    "\n",
    "image = train_dataset[image_index].cuda()\n",
    "x_hat = model(image)\n",
    "x_hat = x_hat.detach().cpu().numpy().reshape((28, 28))\n",
    "x_hat = np.around(x_hat)\n",
    "\n",
    "plt.imshow(x_hat, cmap='gray') # Reconstructed image"
   ]
  },
  {
   "cell_type": "code",
   "execution_count": 16,
   "id": "65a9f2a0-9236-4e3b-8e11-c26c22dd6fc7",
   "metadata": {},
   "outputs": [
    {
     "data": {
      "text/plain": [
       "<matplotlib.image.AxesImage at 0x1ba2ccf9d30>"
      ]
     },
     "execution_count": 16,
     "metadata": {},
     "output_type": "execute_result"
    },
    {
     "data": {
      "image/png": "[encoded data removed]",
      "text/plain": [
       "<Figure size 640x480 with 1 Axes>"
      ]
     },
     "metadata": {},
     "output_type": "display_data"
    }
   ],
   "source": [
    "plt.imshow(image.cpu().reshape((28, 28)), cmap='gray') # Original input image"
   ]
  },
  {
   "cell_type": "code",
   "execution_count": 17,
   "id": "34c1e4e2-ab73-47e3-a257-1005ff930a84",
   "metadata": {},
   "outputs": [
    {
     "data": {
      "text/plain": [
       "<matplotlib.image.AxesImage at 0x1ba2ccfa600>"
      ]
     },
     "execution_count": 17,
     "metadata": {},
     "output_type": "execute_result"
    },
    {
     "data": {
      "image/png": "[encoded data removed]",
      "text/plain": [
       "<Figure size 640x480 with 1 Axes>"
      ]
     },
     "metadata": {},
     "output_type": "display_data"
    }
   ],
   "source": [
    "# Visualizing Test Images\n",
    "image_index = 100\n",
    "\n",
    "image = test_dataset[image_index].cuda()\n",
    "x_hat = model(image)\n",
    "x_hat = x_hat.detach().cpu().numpy().reshape((28, 28))\n",
    "x_hat = np.around(x_hat)\n",
    "\n",
    "plt.imshow(x_hat, cmap='gray') # Reconstructed image"
   ]
  },
  {
   "cell_type": "code",
   "execution_count": 18,
   "id": "9a07f49c-52d1-4a8a-a724-03c0ddd4b8b6",
   "metadata": {},
   "outputs": [
    {
     "data": {
      "text/plain": [
       "<matplotlib.image.AxesImage at 0x1ba2bb39910>"
      ]
     },
     "execution_count": 18,
     "metadata": {},
     "output_type": "execute_result"
    },
    {
     "data": {
      "image/png": "[encoded data removed]",
      "text/plain": [
       "<Figure size 640x480 with 1 Axes>"
      ]
     },
     "metadata": {},
     "output_type": "display_data"
    }
   ],
   "source": [
    "plt.imshow(image.cpu().reshape((28, 28)), cmap='gray') # Original input image"
   ]
  },
  {
   "cell_type": "markdown",
   "id": "647484df-59c0-4103-8c20-ab0d187fe67b",
   "metadata": {},
   "source": [
    "## Latent Representation\n",
    "Now that the model is trained, we can get the latent representation of the data which can then be fed to downstream tasks"
   ]
  },
  {
   "cell_type": "code",
   "execution_count": 19,
   "id": "a9143901-5731-4223-aa0d-c145307214ef",
   "metadata": {},
   "outputs": [
    {
     "data": {
      "text/plain": [
       "(60000, 128)"
      ]
     },
     "execution_count": 19,
     "metadata": {},
     "output_type": "execute_result"
    }
   ],
   "source": [
    "# torch.no_grad() doesns't compute gradient\n",
    "@torch.no_grad()\n",
    "def get_latent_representation(model, dataloader):\n",
    "    latent_representation = []\n",
    "    \n",
    "    for batch in dataloader:\n",
    "        batch = batch.cuda()\n",
    "        # Run only the encoder\n",
    "        latent = model.run_encoder(batch)\n",
    "        latent = latent.cpu().numpy()\n",
    "        latent_representation.append(latent)\n",
    "\n",
    "    latent_representation = np.concatenate(latent_representation)\n",
    "    \n",
    "    return latent_representation\n",
    "\n",
    "latent = get_latent_representation(model, train_loader)\n",
    "latent.shape\n",
    "\n",
    "# Now, we can build a classifier on top of the latent space, run unsupervised clustering, etc."
   ]
  },
  {
   "cell_type": "markdown",
   "id": "0330904a-b8b2-4992-b2a7-475f93fb1464",
   "metadata": {},
   "source": [
    "# Extending to a Variational AutoEncoder\n",
    "- What if we want to generate images? What if we want to impose some constraints on the latent space?\n",
    "- In our AutoEncoder, we had no constraints on the latent space. Now, the latent space will be constrained to be drawn from the normal distribution\n",
    "- Instead of the encoder directly outputting the latent space, it will output a vector of means and a vector of variances from which we sample our latent space\n",
    "- This has the following benefits:\n",
    "    1. We have constraints on the latent space and can specify priors on our latent variables\n",
    "    2. It's now a generative model\n",
    "- From the graphical model's perspective, this is known as amortized variational inference (using a neural network to learn parameters of the distribution)\n",
    "\n",
    "## Variational AutoEncoder Architecture\n",
    "\n",
    "<img src=\"https://miro.medium.com/v2/resize:fit:1100/format:webp/1*CAHY9d6wDAcrftSzd421YA.png\" width=\"400\"/>"
   ]
  }
 ],
 "metadata": {
  "kernelspec": {
   "display_name": "Python 3 (ipykernel)",
   "language": "python",
   "name": "python3"
  },
  "language_info": {
   "codemirror_mode": {
    "name": "ipython",
    "version": 3
   },
   "file_extension": ".py",
   "mimetype": "text/x-python",
   "name": "python",
   "nbconvert_exporter": "python",
   "pygments_lexer": "ipython3",
   "version": "3.12.7"
  }
 },
 "nbformat": 4,
 "nbformat_minor": 5
}
